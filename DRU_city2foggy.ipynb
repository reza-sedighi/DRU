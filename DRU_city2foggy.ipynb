{
  "cells": [
    {
      "cell_type": "markdown",
      "metadata": {},
      "source": [
        "# 1-Environment's setup and cuda compilation check"
      ]
    },
    {
      "cell_type": "code",
      "execution_count": null,
      "metadata": {
        "colab": {
          "base_uri": "https://localhost:8080/"
        },
        "id": "ZtwTYk3mGQ4w",
        "outputId": "9a4ad1d5-fa63-4977-e09b-56a7f0eb3fe0"
      },
      "outputs": [],
      "source": [
        "!nvidia-smi"
      ]
    },
    {
      "cell_type": "code",
      "execution_count": null,
      "metadata": {
        "colab": {
          "base_uri": "https://localhost:8080/"
        },
        "id": "WMnqOCCnGqCA",
        "outputId": "09f0844c-6940-4ed8-8792-236d02cabfca"
      },
      "outputs": [],
      "source": [
        "!nvcc --version"
      ]
    },
    {
      "cell_type": "code",
      "execution_count": null,
      "metadata": {
        "colab": {
          "base_uri": "https://localhost:8080/"
        },
        "id": "gLlNnumcDihr",
        "outputId": "03ef0d84-7310-43b8-b976-615fdefe796e"
      },
      "outputs": [],
      "source": [
        "!git clone https://github.com/reza-sedighi/DRU.git"
      ]
    },
    {
      "cell_type": "code",
      "execution_count": null,
      "metadata": {
        "colab": {
          "base_uri": "https://localhost:8080/",
          "height": 36
        },
        "id": "SdkrELtjDp_y",
        "outputId": "e1f6131b-249c-4560-e7ce-88caf2544681"
      },
      "outputs": [],
      "source": [
        "pwd"
      ]
    },
    {
      "cell_type": "code",
      "execution_count": null,
      "metadata": {
        "colab": {
          "base_uri": "https://localhost:8080/"
        },
        "id": "TBiM-BzPDxpT",
        "outputId": "c11ae611-6443-4244-aede-46310629186e"
      },
      "outputs": [],
      "source": [
        "cd DRU/"
      ]
    },
    {
      "cell_type": "code",
      "execution_count": null,
      "metadata": {
        "colab": {
          "base_uri": "https://localhost:8080/"
        },
        "id": "KboufVsPD5tY",
        "outputId": "a16368f4-5d83-48eb-aee0-213e510e130e"
      },
      "outputs": [],
      "source": [
        "!pip install -r requirements.txt"
      ]
    },
    {
      "cell_type": "code",
      "execution_count": null,
      "metadata": {
        "colab": {
          "base_uri": "https://localhost:8080/"
        },
        "id": "7ilf92WMD9AR",
        "outputId": "f8b5a79c-8d66-4cf8-a184-ed99049e4a59"
      },
      "outputs": [],
      "source": [
        "cd ./models/ops"
      ]
    },
    {
      "cell_type": "code",
      "execution_count": null,
      "metadata": {
        "colab": {
          "base_uri": "https://localhost:8080/"
        },
        "id": "6c7t4nOpEEPh",
        "outputId": "54dee103-2b35-48f7-fd2b-510169df25da"
      },
      "outputs": [],
      "source": [
        "!sh ./make.sh"
      ]
    },
    {
      "cell_type": "code",
      "execution_count": null,
      "metadata": {
        "colab": {
          "base_uri": "https://localhost:8080/"
        },
        "id": "Z2FAkOFyEHjx",
        "outputId": "68bda0da-c9a8-4de1-bf07-26a98b5d0c7b"
      },
      "outputs": [],
      "source": [
        "# unit test (should see all checking is True)\n",
        "!python test.py"
      ]
    },
    {
      "cell_type": "code",
      "execution_count": null,
      "metadata": {
        "colab": {
          "base_uri": "https://localhost:8080/"
        },
        "id": "HrrNrcUjK-Vb",
        "outputId": "063d4e76-c814-4073-ba36-a5f790653453"
      },
      "outputs": [],
      "source": [
        "cd /content/DRU"
      ]
    },
    {
      "cell_type": "markdown",
      "metadata": {},
      "source": [
        "# 2-Downloading datasets"
      ]
    },
    {
      "cell_type": "code",
      "execution_count": null,
      "metadata": {
        "colab": {
          "base_uri": "https://localhost:8080/",
          "height": 425
        },
        "id": "bqVjlsa4EPsw",
        "outputId": "b2bb22d4-dbc2-4bdc-8fb5-a53500fdbcb0"
      },
      "outputs": [],
      "source": [
        "import os\n",
        "import requests\n",
        "from tqdm import tqdm\n",
        "import getpass\n",
        "import zipfile\n",
        "\n",
        "# Prompt for username and password\n",
        "username = input(\"Enter your Cityscapes username: \")\n",
        "password = getpass.getpass(\"Enter your Cityscapes password: \")\n",
        "\n",
        "# Define login URL\n",
        "login_url = 'https://www.cityscapes-dataset.com/login/'\n",
        "\n",
        "# Define URLs in the specified order\n",
        "dataset_urls = [\n",
        "    ('https://www.cityscapes-dataset.com/file-handling/?packageID=31', '/content/DRU/data/leftImg8bit_trainval_foggyDBF.zip'),\n",
        "    ('https://www.cityscapes-dataset.com/file-handling/?packageID=3', '/content/DRU/data/leftImg8bit_trainvaltest.zip')\n",
        "]\n",
        "payload = {\n",
        "    'username': username,\n",
        "    'password': password,\n",
        "    'submit': 'Login'\n",
        "}\n",
        "\n",
        "# Create the dataset directory if it doesn't exist\n",
        "os.makedirs('data', exist_ok=True)\n",
        "\n",
        "def download_file(session, url, dest_path):\n",
        "    \"\"\"Download a file with a progress bar.\"\"\"\n",
        "    response = session.get(url, stream=True)\n",
        "    total_size = int(response.headers.get('content-length', 0))\n",
        "    block_size = 1024  # 1 Kilobyte\n",
        "\n",
        "    # Use tqdm to create a progress bar\n",
        "    with open(dest_path, 'wb') as f, tqdm(\n",
        "        desc=dest_path,\n",
        "        total=total_size,\n",
        "        unit='iB',\n",
        "        unit_scale=True,\n",
        "        unit_divisor=1024,\n",
        "    ) as bar:\n",
        "        for data in response.iter_content(block_size):\n",
        "            f.write(data)\n",
        "            bar.update(len(data))\n",
        "\n",
        "def unzip_and_remove(zip_path, extract_to):\n",
        "    \"\"\"Unzip the file and remove the zip file.\"\"\"\n",
        "    with zipfile.ZipFile(zip_path, 'r') as zip_ref:\n",
        "        zip_ref.extractall(extract_to)\n",
        "    os.remove(zip_path)  # Remove the zip file after extracting\n",
        "\n",
        "# Start a session to manage cookies and authentication\n",
        "with requests.Session() as session:\n",
        "    # Post login data\n",
        "    post = session.post(login_url, data=payload)\n",
        "\n",
        "    # Check if login was successful by verifying if the session is authenticated\n",
        "    if post.url == login_url:\n",
        "        print(\"Login failed. Please check your username and password.\")\n",
        "    else:\n",
        "        for url, zip_path in dataset_urls:\n",
        "            # Download the dataset, unzip it, and remove the zip file\n",
        "            download_file(session, url, zip_path)\n",
        "            unzip_and_remove(zip_path, '/content/DRU/data/cityscapes')\n",
        "\n",
        "        print(\"All datasets downloaded, unzipped, and cleaned up successfully.\")\n"
      ]
    },
    {
      "cell_type": "markdown",
      "metadata": {},
      "source": [
        "# 3-Separating foggy_cityscapes' images with beta=0.02"
      ]
    },
    {
      "cell_type": "code",
      "execution_count": null,
      "metadata": {},
      "outputs": [],
      "source": [
        "import os\n",
        "import shutil\n",
        "\n",
        "# Cities split into train, val, and test\n",
        "train_cities = [\n",
        "    \"aachen\", \"bochum\", \"bremen\", \"cologne\", \"darmstadt\", \"dusseldorf\", \n",
        "    \"erfurt\", \"hamburg\", \"hanover\", \"jena\", \"krefeld\", \"monchengladbach\", \n",
        "    \"strasbourg\", \"stuttgart\", \"tubingen\", \"ulm\", \"weimar\", \"zurich\"\n",
        "]\n",
        "\n",
        "val_cities = [\"frankfurt\", \"lindau\", \"munster\"]\n",
        "\n",
        "# test_cities = [\"berlin\", \"bielefeld\", \"bonn\", \"leverkusen\", \"mainz\", \"munich\"]\n",
        "\n",
        "# Paths to the original and new directories\n",
        "base_path = \"/content/DRU/data/cityscapes/leftImg8bit_foggyDBF\"\n",
        "new_base_path = \"/content/DRU/data/foggy_cityscapes/leftImg8bit_foggy\"\n",
        "\n",
        "# Function to handle the file moving process\n",
        "def move_images(set_type, cities):\n",
        "    original_set_path = os.path.join(base_path, set_type)\n",
        "    new_set_path = os.path.join(new_base_path, set_type)\n",
        "    \n",
        "    # Create the new directory for train, val, test\n",
        "    os.makedirs(new_set_path, exist_ok=True)\n",
        "    \n",
        "    # Loop through each city folder within the current set_type\n",
        "    for city in cities:\n",
        "        original_city_path = os.path.join(original_set_path, city)\n",
        "        new_city_path = os.path.join(new_set_path, city)\n",
        "        \n",
        "        # Create the corresponding city directory in the new location\n",
        "        os.makedirs(new_city_path, exist_ok=True)\n",
        "        \n",
        "        # Check if the city directory exists in the original path\n",
        "        if os.path.exists(original_city_path):\n",
        "            # Loop through each image in the city folder\n",
        "            for image_name in os.listdir(original_city_path):\n",
        "                # Move only images containing \"_beta_0.02\" in their name\n",
        "                if \"_beta_0.02\" in image_name:\n",
        "                    original_image_path = os.path.join(original_city_path, image_name)\n",
        "                    new_image_path = os.path.join(new_city_path, image_name)\n",
        "                    \n",
        "                    # Move the image to the new directory\n",
        "                    shutil.move(original_image_path, new_image_path)\n",
        "                    print(f\"Moved: {original_image_path} -> {new_image_path}\")\n",
        "        else:\n",
        "            print(f\"City folder not found: {original_city_path}\")\n",
        "\n",
        "# Process each set (train, val, test) with the correct cities\n",
        "move_images(\"train\", train_cities)\n",
        "move_images(\"val\", val_cities)\n",
        "# move_images(\"test\", test_cities)\n"
      ]
    },
    {
      "cell_type": "markdown",
      "metadata": {},
      "source": [
        "# 4-Download coco-style annotations and put them into correct directory"
      ]
    },
    {
      "cell_type": "code",
      "execution_count": null,
      "metadata": {},
      "outputs": [],
      "source": [
        "# please add a shortcut of weights and annotations to your google drive then try to mount your gdrive in order to download the files\n",
        "from google.colab import drive\n",
        "drive.mount('/gdrive')"
      ]
    },
    {
      "cell_type": "code",
      "execution_count": null,
      "metadata": {},
      "outputs": [],
      "source": [
        "# after downloading the coco-style annotations put them into th correct directory based on the following organization, note that data_root is /content/DRU/data\n",
        "\n",
        "\n",
        "# [data_root]\n",
        "# └─ cityscapes\n",
        "# \t└─ annotations\n",
        "# \t\t└─ cityscapes_train_cocostyle.json\n",
        "# \t\t└─ cityscapes_train_caronly_cocostyle.json\n",
        "# \t\t└─ cityscapes_val_cocostyle.json\n",
        "# \t\t└─ cityscapes_val_caronly_cocostyle.json\n",
        "# \t└─ leftImg8bit\n",
        "# \t\t└─ train\n",
        "# \t\t└─ val\n",
        "# └─ foggy_cityscapes\n",
        "# \t└─ annotations\n",
        "# \t\t└─ foggy_cityscapes_train_cocostyle.json\n",
        "# \t\t└─ foggy_cityscapes_val_cocostyle.json\n",
        "# \t└─ leftImg8bit_foggy\n",
        "# \t\t└─ train\n",
        "# \t\t└─ val\n",
        "# └─ sim10k\n",
        "# \t└─ annotations\n",
        "# \t\t└─ sim10k_train_cocostyle.json\n",
        "# \t└─ JPEGImages\n",
        "# └─ bdd10k\n",
        "# \t└─ annotations\n",
        "# \t\t└─ bdd100k_daytime_train_cocostyle.json\n",
        "# \t\t└─ bdd100k_daytime_val_cocostyle.json\n",
        "# \t└─ images"
      ]
    },
    {
      "cell_type": "markdown",
      "metadata": {},
      "source": [
        "# 5-Downloading trained weights"
      ]
    },
    {
      "cell_type": "code",
      "execution_count": null,
      "metadata": {},
      "outputs": [],
      "source": [
        "# please download the trained weights according to the readme.md file and then put them in /content/DRU/outputs/def-detr-base/city2foggy/source_only & teaching_standard & teaching_mask1 respectively"
      ]
    },
    {
      "cell_type": "markdown",
      "metadata": {
        "vscode": {
          "languageId": "plaintext"
        }
      },
      "source": [
        "All experiments are conducted with batch size 8 (for source_only: 8 labeled samples; for teaching_standard or teaching_mask: 8 unlabeled samples), on an NVIDIA Quadro RTX 8000 GPU (48GB).\n",
        "\n",
        "city2foggy: Cityscapes → FoggyCityscapes(level 0.02)\n"
      ]
    },
    {
      "cell_type": "code",
      "execution_count": null,
      "metadata": {},
      "outputs": [],
      "source": [
        "cd /content/DRU/weights"
      ]
    },
    {
      "cell_type": "markdown",
      "metadata": {},
      "source": [
        "# 6-Training and Evaluation"
      ]
    },
    {
      "cell_type": "markdown",
      "metadata": {},
      "source": [
        "## 6.1 Training"
      ]
    },
    {
      "cell_type": "code",
      "execution_count": null,
      "metadata": {},
      "outputs": [],
      "source": [
        "# First, run source_only to pretrain the Source-only model. Then, run teaching_standard to train the conventional Mean-Teacher framework OR teaching_mask to train the proposed DRU.\n",
        "\n",
        "# For example in city2foggy benchmark, first edit the files in configs/def-detr-base/city2foggy/ to specify your own DATA_ROOT and OUTPUT_DIR, then run:\n",
        "\n",
        "# sh configs/def-detr-base/city2foggy/source_only.sh\n",
        "# sh configs/def-detr-base/city2foggy/teaching_standard.sh\n",
        "# sh configs/def-detr-base/city2foggy/teaching_mask.sh"
      ]
    },
    {
      "cell_type": "markdown",
      "metadata": {},
      "source": [
        "## 6.2 Evaluation\n"
      ]
    },
    {
      "cell_type": "code",
      "execution_count": null,
      "metadata": {},
      "outputs": [],
      "source": [
        "# To evaluate the trained model and get the predicted results, run:\n",
        "\n",
        "# sh configs/def-detr-base/city2foggy/evaluation_source_only.sh\n",
        "# sh configs/def-detr-base/city2foggy/evaluation_teaching_standard.sh\n",
        "# sh configs/def-detr-base/city2foggy/evaluation_teaching_mask.sh"
      ]
    },
    {
      "cell_type": "code",
      "execution_count": null,
      "metadata": {},
      "outputs": [],
      "source": []
    }
  ],
  "metadata": {
    "accelerator": "GPU",
    "colab": {
      "gpuType": "T4",
      "provenance": []
    },
    "kernelspec": {
      "display_name": "Python 3",
      "name": "python3"
    },
    "language_info": {
      "name": "python"
    }
  },
  "nbformat": 4,
  "nbformat_minor": 0
}
